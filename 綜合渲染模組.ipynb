{
  "nbformat": 4,
  "nbformat_minor": 0,
  "metadata": {
    "colab": {
      "provenance": [],
      "mount_file_id": "1HDZoGMyZ2i9jLoe-2ye60kOLnK6PAHDg",
      "authorship_tag": "ABX9TyNLTOZaY4Q4kflmv08Lbfvv",
      "include_colab_link": true
    },
    "kernelspec": {
      "name": "python3",
      "display_name": "Python 3"
    },
    "language_info": {
      "name": "python"
    }
  },
  "cells": [
    {
      "cell_type": "markdown",
      "metadata": {
        "id": "view-in-github",
        "colab_type": "text"
      },
      "source": [
        "<a href=\"https://colab.research.google.com/github/skywalker0803r/baseball_ProofofConcept/blob/main/%E7%B6%9C%E5%90%88%E6%B8%B2%E6%9F%93%E6%A8%A1%E7%B5%84.ipynb\" target=\"_parent\"><img src=\"https://colab.research.google.com/assets/colab-badge.svg\" alt=\"Open In Colab\"/></a>"
      ]
    },
    {
      "cell_type": "markdown",
      "source": [
        "# 綜合渲染模組"
      ],
      "metadata": {
        "id": "XnddhqBVRBA5"
      }
    },
    {
      "cell_type": "code",
      "source": [
        "import json\n",
        "\n",
        "with open(\"/content/CH_videos_4s_pitch_0001_skeleton.json\", \"r\", encoding=\"utf-8\") as f:\n",
        "    skeleton = json.load(f)\n",
        "\n",
        "with open(\"/content/CH_videos_4s_pitch_0001_baseball_result.json\", \"r\", encoding=\"utf-8\") as f:\n",
        "    baseball = json.load(f)\n"
      ],
      "metadata": {
        "id": "axcj6iSzRt_O"
      },
      "execution_count": 8,
      "outputs": []
    },
    {
      "cell_type": "code",
      "source": [
        "import cv2\n",
        "import os\n",
        "import math\n",
        "\n",
        "# COCO 骨架連線對\n",
        "COCO_CONNECTIONS = [\n",
        "    (0, 1), (0, 2), (1, 3), (2, 4),      # 頭臉\n",
        "    (5, 6),                             # 肩膀\n",
        "    (5, 7), (7, 9),                     # 左手臂\n",
        "    (6, 8), (8, 10),                    # 右手臂\n",
        "    (5, 11), (6, 12), (11, 12),         # 軀幹臀部\n",
        "    (11, 13), (13, 15),                 # 左腿\n",
        "    (12, 14), (14, 16)                  # 右腿\n",
        "]\n",
        "\n",
        "def render_video_with_pose_and_max_ball_speed(input_video_path: str,\n",
        "                                              pose_json: dict,\n",
        "                                              ball_json: dict,\n",
        "                                              output_video_path: str,\n",
        "                                              pixel_to_meter: float = 0.04,\n",
        "                                              min_valid_speed_kmh: float = 30,\n",
        "                                              max_valid_speed_kmh: float = 200) -> str:\n",
        "    \"\"\"\n",
        "    同時渲染骨架與棒球框，顯示最大球速，並排除不合理速度。\n",
        "\n",
        "    Args:\n",
        "        input_video_path (str): 原始影片路徑\n",
        "        pose_json (dict): 骨架偵測資料\n",
        "        ball_json (dict): 棒球框資料\n",
        "        output_video_path (str): 輸出影片路徑\n",
        "        pixel_to_meter (float): 像素轉公尺的比例（例如18.44m/450px ≈ 0.04）\n",
        "        min_valid_speed_kmh (float): 最小有效速度\n",
        "        max_valid_speed_kmh (float): 最大有效速度\n",
        "\n",
        "    Returns:\n",
        "        str: 輸出影片路徑\n",
        "    \"\"\"\n",
        "    os.makedirs(os.path.dirname(output_video_path), exist_ok=True)\n",
        "\n",
        "    cap = cv2.VideoCapture(input_video_path)\n",
        "    if not cap.isOpened():\n",
        "        raise RuntimeError(f\"無法開啟影片：{input_video_path}\")\n",
        "\n",
        "    width = int(cap.get(cv2.CAP_PROP_FRAME_WIDTH))\n",
        "    height = int(cap.get(cv2.CAP_PROP_FRAME_HEIGHT))\n",
        "    fps = cap.get(cv2.CAP_PROP_FPS)\n",
        "    fourcc = cv2.VideoWriter_fourcc(*'mp4v')\n",
        "    out = cv2.VideoWriter(output_video_path, fourcc, fps, (width, height))\n",
        "\n",
        "    pose_frames = {f['frame_idx']: f.get('predictions', []) for f in pose_json.get('frames', [])}\n",
        "    ball_frames = {frame_idx: box for frame_idx, box in ball_json.get('results', [])}\n",
        "\n",
        "    prev_center = None\n",
        "    prev_frame_idx = None\n",
        "    max_speed_kmh = 0\n",
        "\n",
        "    frame_idx = 0\n",
        "    while True:\n",
        "        ret, frame = cap.read()\n",
        "        if not ret:\n",
        "            break\n",
        "\n",
        "        # --- 畫骨架 ---\n",
        "        predictions_raw = pose_frames.get(frame_idx, [])\n",
        "        predictions = predictions_raw[0] if predictions_raw and isinstance(predictions_raw[0], list) else predictions_raw\n",
        "\n",
        "        for person in predictions:\n",
        "            keypoints = person.get('keypoints', [])\n",
        "            scores = person.get('keypoint_scores', [])\n",
        "            if not keypoints or not scores:\n",
        "                continue\n",
        "\n",
        "            for i, (x, y) in enumerate(keypoints):\n",
        "                if i < len(scores) and scores[i] > 0.3:\n",
        "                    cv2.circle(frame, (int(x), int(y)), 4, (0, 255, 0), -1)\n",
        "\n",
        "            for (start, end) in COCO_CONNECTIONS:\n",
        "                if start < len(keypoints) and end < len(keypoints):\n",
        "                    x1, y1 = keypoints[start]\n",
        "                    x2, y2 = keypoints[end]\n",
        "                    if scores[start] > 0.3 and scores[end] > 0.3:\n",
        "                        cv2.line(frame, (int(x1), int(y1)), (int(x2), int(y2)), (0, 255, 255), 2)\n",
        "\n",
        "        # --- 畫棒球 + 計算速度 ---\n",
        "        if frame_idx in ball_frames:\n",
        "            x1, y1, x2, y2 = map(int, ball_frames[frame_idx])\n",
        "            cx = (x1 + x2) // 2\n",
        "            cy = (y1 + y2) // 2\n",
        "            cv2.rectangle(frame, (x1, y1), (x2, y2), (0, 0, 255), 2)\n",
        "            cv2.putText(frame, \"Baseball\", (x1, y1 - 10), cv2.FONT_HERSHEY_SIMPLEX, 0.6, (0, 0, 255), 2)\n",
        "\n",
        "            if prev_center is not None and prev_frame_idx is not None:\n",
        "                dx = cx - prev_center[0]\n",
        "                dy = cy - prev_center[1]\n",
        "                distance_pixels = math.sqrt(dx**2 + dy**2)\n",
        "                dt = (frame_idx - prev_frame_idx) / fps\n",
        "\n",
        "                if dt > 0:\n",
        "                    distance_m = distance_pixels * pixel_to_meter\n",
        "                    speed_mps = distance_m / dt\n",
        "                    speed_kmh = speed_mps * 3.6\n",
        "\n",
        "                    if min_valid_speed_kmh <= speed_kmh <= max_valid_speed_kmh:\n",
        "                        max_speed_kmh = max(max_speed_kmh, speed_kmh)\n",
        "\n",
        "            prev_center = (cx, cy)\n",
        "            prev_frame_idx = frame_idx\n",
        "\n",
        "        # --- 畫最大球速 ---\n",
        "        label = f\"Max Speed: {max_speed_kmh:.1f} km/h\"\n",
        "        cv2.rectangle(frame, (30, 30), (360, 80), (0, 0, 0), -1)  # 黑底\n",
        "        cv2.putText(frame, label, (40, 65), cv2.FONT_HERSHEY_SIMPLEX, 1, (255, 255, 255), 2)  # 白字\n",
        "\n",
        "        out.write(frame)\n",
        "        frame_idx += 1\n",
        "\n",
        "    cap.release()\n",
        "    out.release()\n",
        "    return output_video_path,max_speed_kmh\n"
      ],
      "metadata": {
        "id": "E_s8BnM8Xu1_"
      },
      "execution_count": 29,
      "outputs": []
    },
    {
      "cell_type": "code",
      "source": [
        "output_video_path,max_speed_kmh = render_video_with_pose_and_max_ball_speed(\n",
        "    input_video_path=\"/content/drive/MyDrive/Baseball Movies/CH_videos_4s/pitch_0001.mp4\",\n",
        "    pose_json=skeleton_data,\n",
        "    ball_json=baseball_data,\n",
        "    output_video_path=\"./output_with_speed.mp4\",\n",
        "    pixel_to_meter=0.5  # 根據影片場地估算\n",
        ")\n",
        "max_speed_kmh"
      ],
      "metadata": {
        "colab": {
          "base_uri": "https://localhost:8080/"
        },
        "id": "oUmmIs5yYhOM",
        "outputId": "17738a32-132a-4122-c6b5-a02212189d24"
      },
      "execution_count": 32,
      "outputs": [
        {
          "output_type": "execute_result",
          "data": {
            "text/plain": [
              "151.94338798407782"
            ]
          },
          "metadata": {},
          "execution_count": 32
        }
      ]
    },
    {
      "cell_type": "code",
      "source": [],
      "metadata": {
        "id": "HXE4PTA-YqJ_"
      },
      "execution_count": null,
      "outputs": []
    }
  ]
}
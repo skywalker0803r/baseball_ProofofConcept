{
  "nbformat": 4,
  "nbformat_minor": 0,
  "metadata": {
    "colab": {
      "provenance": [],
      "mount_file_id": "1HDZoGMyZ2i9jLoe-2ye60kOLnK6PAHDg",
      "authorship_tag": "ABX9TyN5WNuLtxAqE9Z/fAFKhtrK",
      "include_colab_link": true
    },
    "kernelspec": {
      "name": "python3",
      "display_name": "Python 3"
    },
    "language_info": {
      "name": "python"
    }
  },
  "cells": [
    {
      "cell_type": "markdown",
      "metadata": {
        "id": "view-in-github",
        "colab_type": "text"
      },
      "source": [
        "<a href=\"https://colab.research.google.com/github/skywalker0803r/baseball_ProofofConcept/blob/main/%E9%81%8B%E5%8B%95%E5%8A%9B%E5%AD%B8%E6%A8%A1%E7%B5%84.ipynb\" target=\"_parent\"><img src=\"https://colab.research.google.com/assets/colab-badge.svg\" alt=\"Open In Colab\"/></a>"
      ]
    },
    {
      "cell_type": "code",
      "source": [
        "import json\n",
        "with open('/content/CH_videos_4s_pitch_0001_skeleton.json', 'r') as f:\n",
        "    skeleton_data = json.load(f)"
      ],
      "metadata": {
        "id": "yHA9dR2Ya53y"
      },
      "execution_count": 33,
      "outputs": []
    },
    {
      "cell_type": "code",
      "source": [
        "import math\n",
        "import numpy as np\n",
        "\n",
        "def angle_between(p1, p2, p3):\n",
        "    \"\"\"計算角度 ∠p2（p1-p2-p3）\"\"\"\n",
        "    a = np.array(p1) - np.array(p2)\n",
        "    b = np.array(p3) - np.array(p2)\n",
        "    cosine = np.dot(a, b) / (np.linalg.norm(a) * np.linalg.norm(b) + 1e-6)\n",
        "    return np.degrees(np.arccos(np.clip(cosine, -1.0, 1.0)))\n",
        "\n",
        "def extract_pitching_biomechanics(skeleton_data: dict) -> dict:\n",
        "    features = {\n",
        "        'avg_elbow_angle': None,\n",
        "        'avg_shoulder_slope_deg': None,\n",
        "        'avg_hip_slope_deg': None,\n",
        "        'avg_torso_twist_deg': None,\n",
        "        'max_hand_speed_px_per_s': None,\n",
        "        'max_stride_length_px': None,\n",
        "        'min_elbow_height_px': None,\n",
        "        'avg_head_elbow_dist_px': None,\n",
        "        'avg_shoulder_width_px': None\n",
        "    }\n",
        "\n",
        "    fps = 30  # 若有更準確 fps 可替換\n",
        "    prev_wrist = None\n",
        "    prev_time = None\n",
        "\n",
        "    elbow_angles = []\n",
        "    shoulder_slopes = []\n",
        "    hip_slopes = []\n",
        "    torso_twists = []\n",
        "    hand_speeds = []\n",
        "    stride_lengths = []\n",
        "    elbow_heights = []\n",
        "    elbow_head_dists = []\n",
        "    shoulder_widths = []\n",
        "\n",
        "    for frame in skeleton_data.get(\"frames\", []):\n",
        "        preds_group = frame.get(\"predictions\", [])\n",
        "        if not preds_group or not preds_group[0]:\n",
        "            continue\n",
        "        person = preds_group[0][0]  # 取第一個人\n",
        "\n",
        "        kp = person[\"keypoints\"]\n",
        "        scores = person[\"keypoint_scores\"]\n",
        "\n",
        "        def valid(idx):\n",
        "            return idx < len(scores) and scores[idx] > 0.3\n",
        "\n",
        "        # 1. 手肘角度（右手）\n",
        "        if valid(6) and valid(8) and valid(10):\n",
        "            angle = angle_between(kp[6], kp[8], kp[10])  # shoulder-elbow-wrist\n",
        "            elbow_angles.append(angle)\n",
        "\n",
        "        # 2. 肩膀水平角度\n",
        "        if valid(5) and valid(6):\n",
        "            dx = kp[6][0] - kp[5][0]\n",
        "            dy = kp[6][1] - kp[5][1]\n",
        "            shoulder_slopes.append(math.degrees(math.atan2(dy, dx)))\n",
        "\n",
        "        # 3. 髖部水平角度\n",
        "        if valid(11) and valid(12):\n",
        "            dx = kp[12][0] - kp[11][0]\n",
        "            dy = kp[12][1] - kp[11][1]\n",
        "            hip_slopes.append(math.degrees(math.atan2(dy, dx)))\n",
        "\n",
        "        # 4. 軀幹扭轉（右肩對左髖）\n",
        "        if valid(6) and valid(11):\n",
        "            dx = kp[11][0] - kp[6][0]\n",
        "            dy = kp[11][1] - kp[6][1]\n",
        "            torso_twists.append(math.degrees(math.atan2(dy, dx)))\n",
        "\n",
        "        # 5. 投球手速度（像素/s）\n",
        "        if valid(10):\n",
        "            curr_wrist = np.array(kp[10])\n",
        "            t = frame[\"frame_idx\"] / fps\n",
        "            if prev_wrist is not None and prev_time is not None:\n",
        "                dist = np.linalg.norm(curr_wrist - prev_wrist)\n",
        "                dt = t - prev_time\n",
        "                if dt > 0:\n",
        "                    hand_speeds.append(dist / dt)\n",
        "            prev_wrist = curr_wrist\n",
        "            prev_time = t\n",
        "\n",
        "        # 6. 步幅：踝左右 x 距離\n",
        "        if valid(15) and valid(16):\n",
        "            dx = abs(kp[15][0] - kp[16][0])\n",
        "            stride_lengths.append(dx)\n",
        "\n",
        "        # 7. 手肘高度\n",
        "        if valid(8):\n",
        "            elbow_heights.append(kp[8][1])\n",
        "\n",
        "        # 8. 頭 - 手肘距離\n",
        "        if valid(0) and valid(8):\n",
        "            dist = np.linalg.norm(np.array(kp[0]) - np.array(kp[8]))\n",
        "            elbow_head_dists.append(dist)\n",
        "\n",
        "        # 9. 肩膀寬度\n",
        "        if valid(5) and valid(6):\n",
        "            dist = abs(kp[6][0] - kp[5][0])\n",
        "            shoulder_widths.append(dist)\n",
        "\n",
        "    features['avg_elbow_angle'] = float(np.mean(elbow_angles)) if elbow_angles else None\n",
        "    features['avg_shoulder_slope_deg'] = float(np.mean(shoulder_slopes)) if shoulder_slopes else None\n",
        "    features['avg_hip_slope_deg'] = float(np.mean(hip_slopes)) if hip_slopes else None\n",
        "    features['avg_torso_twist_deg'] = float(np.mean(torso_twists)) if torso_twists else None\n",
        "    features['max_hand_speed_px_per_s'] = float(np.max(hand_speeds)) if hand_speeds else None\n",
        "    features['max_stride_length_px'] = float(np.max(stride_lengths)) if stride_lengths else None\n",
        "    features['min_elbow_height_px'] = float(np.min(elbow_heights)) if elbow_heights else None\n",
        "    features['avg_head_elbow_dist_px'] = float(np.mean(elbow_head_dists)) if elbow_head_dists else None\n",
        "    features['avg_shoulder_width_px'] = float(np.mean(shoulder_widths)) if shoulder_widths else None\n",
        "\n",
        "    return features\n"
      ],
      "metadata": {
        "id": "t3vSgcHha56g"
      },
      "execution_count": 35,
      "outputs": []
    },
    {
      "cell_type": "code",
      "source": [
        "extract_pitching_biomechanics(skeleton_data)"
      ],
      "metadata": {
        "colab": {
          "base_uri": "https://localhost:8080/"
        },
        "id": "uhZRosN0a59u",
        "outputId": "a4af811f-2447-4060-e983-d993dd48c27d"
      },
      "execution_count": 36,
      "outputs": [
        {
          "output_type": "execute_result",
          "data": {
            "text/plain": [
              "{'avg_elbow_angle': 92.58793591502477,\n",
              " 'avg_shoulder_slope_deg': 120.12941456352631,\n",
              " 'avg_hip_slope_deg': 89.71035567571921,\n",
              " 'avg_torso_twist_deg': 75.26191728137613,\n",
              " 'max_hand_speed_px_per_s': 6391.980529190925,\n",
              " 'max_stride_length_px': 127.13555908203125,\n",
              " 'min_elbow_height_px': 155.1768035888672,\n",
              " 'avg_head_elbow_dist_px': 82.3579219439491,\n",
              " 'avg_shoulder_width_px': 20.467446976349134}"
            ]
          },
          "metadata": {},
          "execution_count": 36
        }
      ]
    },
    {
      "cell_type": "code",
      "source": [],
      "metadata": {
        "id": "OB2vX4L0a6BC"
      },
      "execution_count": null,
      "outputs": []
    },
    {
      "cell_type": "code",
      "source": [],
      "metadata": {
        "id": "Oxyyq6L2a6Dh"
      },
      "execution_count": null,
      "outputs": []
    }
  ]
}
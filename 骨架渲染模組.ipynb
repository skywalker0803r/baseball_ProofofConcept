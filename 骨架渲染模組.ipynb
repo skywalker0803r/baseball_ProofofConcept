{
  "nbformat": 4,
  "nbformat_minor": 0,
  "metadata": {
    "colab": {
      "provenance": [],
      "mount_file_id": "1Vp0OOP5oL5nSqt-4pWdU3ugLnCHwA8TB",
      "authorship_tag": "ABX9TyOIug0aN+LBz38UkFrbFEcT",
      "include_colab_link": true
    },
    "kernelspec": {
      "name": "python3",
      "display_name": "Python 3"
    },
    "language_info": {
      "name": "python"
    }
  },
  "cells": [
    {
      "cell_type": "markdown",
      "metadata": {
        "id": "view-in-github",
        "colab_type": "text"
      },
      "source": [
        "<a href=\"https://colab.research.google.com/github/skywalker0803r/baseball_ProofofConcept/blob/main/%E9%AA%A8%E6%9E%B6%E6%B8%B2%E6%9F%93%E6%A8%A1%E7%B5%84.ipynb\" target=\"_parent\"><img src=\"https://colab.research.google.com/assets/colab-badge.svg\" alt=\"Open In Colab\"/></a>"
      ]
    },
    {
      "cell_type": "markdown",
      "source": [
        "# 影片轉骨架函數"
      ],
      "metadata": {
        "id": "nr5DC2d9IgL6"
      }
    },
    {
      "cell_type": "code",
      "source": [
        "import requests\n",
        "import os\n",
        "\n",
        "def convert_video_to_skeleton(video_path: str, api_url: str = 'https://mmpose-api-924124779607.us-central1.run.app/pose_video') -> dict:\n",
        "    \"\"\"\n",
        "    將本地影片檔案發送至 API 進行姿勢偵測，並回傳骨架結果（JSON 格式）。\n",
        "\n",
        "    Args:\n",
        "        video_path (str): 本地影片檔案路徑，例如 'videos/pitch.mp4'\n",
        "        api_url (str): 處理姿勢偵測的 API 端點 URL\n",
        "\n",
        "    Returns:\n",
        "        dict: 回傳的 JSON 結果，包含骨架資訊\n",
        "    \"\"\"\n",
        "    if not os.path.exists(video_path):\n",
        "        raise FileNotFoundError(f\"找不到影片檔案：{video_path}\")\n",
        "\n",
        "    with open(video_path, 'rb') as f:\n",
        "        files = {'file': (os.path.basename(video_path), f, 'video/mp4')}\n",
        "        try:\n",
        "            response = requests.post(api_url, files=files, timeout=120)\n",
        "            response.raise_for_status()\n",
        "            return response.json()\n",
        "        except requests.exceptions.RequestException as e:\n",
        "            print(f\"❌ 錯誤：{e}\")\n",
        "            return {\"error\": str(e)}\n",
        "result = convert_video_to_skeleton(\"/content/drive/MyDrive/Baseball Movies/CH_videos_4s/pitch_0001.mp4\")\n",
        "print(result)"
      ],
      "metadata": {
        "id": "yi3T31elIiAH"
      },
      "execution_count": null,
      "outputs": []
    },
    {
      "cell_type": "markdown",
      "source": [
        "# 保存成 JSON 檔（推薦）"
      ],
      "metadata": {
        "id": "RxOsKqYzJzBu"
      }
    },
    {
      "cell_type": "code",
      "source": [
        "import json\n",
        "\n",
        "def save_skeleton_to_json(data: dict, save_path: str = \"skeleton_result.json\"):\n",
        "    with open(save_path, \"w\", encoding=\"utf-8\") as f:\n",
        "        json.dump(data, f, indent=2, ensure_ascii=False)\n",
        "    print(f\"✅ 已保存至 {save_path}\")\n",
        "save_skeleton_to_json(result, \"CH_videos_4s_pitch_0001_skeleton.json\")"
      ],
      "metadata": {
        "colab": {
          "base_uri": "https://localhost:8080/"
        },
        "id": "7On-4ZzgJz0_",
        "outputId": "17ad7946-92ae-4f08-df49-60687996be42"
      },
      "execution_count": 3,
      "outputs": [
        {
          "output_type": "stream",
          "name": "stdout",
          "text": [
            "✅ 已保存至 CH_videos_4s_pitch_0001_skeleton.json\n"
          ]
        }
      ]
    },
    {
      "cell_type": "markdown",
      "source": [
        "# 影片渲染骨架函數 輸入影片路徑 骨架資料 回傳渲染好的影片路徑"
      ],
      "metadata": {
        "id": "_Vq1xQE_Le6-"
      }
    },
    {
      "cell_type": "code",
      "source": [
        "import cv2\n",
        "\n",
        "# COCO骨架連線索引，對應keypoints索引\n",
        "COCO_CONNECTIONS = [\n",
        "    (0, 1), (0, 2), (1, 3), (2, 4),      # 頭臉\n",
        "    (5, 6),                             # 肩膀\n",
        "    (5, 7), (7, 9),                     # 左手臂\n",
        "    (6, 8), (8, 10),                    # 右手臂\n",
        "    (5, 11), (6, 12), (11, 12),         # 軀幹臀部\n",
        "    (11, 13), (13, 15),                 # 左腿\n",
        "    (12, 14), (14, 16)                  # 右腿\n",
        "]\n",
        "\n",
        "def fast_render_pose_video(input_video_path: str, pose_json: dict, output_video_path: str):\n",
        "    \"\"\"\n",
        "    將骨架資料渲染到影片並存檔，使用OpenCV，速度優先。\n",
        "\n",
        "    Args:\n",
        "        input_video_path (str): 原始影片路徑\n",
        "        pose_json (dict): API回傳的骨架JSON資料\n",
        "        output_video_path (str): 輸出影片路徑\n",
        "\n",
        "    Returns:\n",
        "        str: 輸出影片路徑\n",
        "    \"\"\"\n",
        "    cap = cv2.VideoCapture(input_video_path)\n",
        "    if not cap.isOpened():\n",
        "        raise RuntimeError(f\"無法開啟影片：{input_video_path}\")\n",
        "\n",
        "    width  = int(cap.get(cv2.CAP_PROP_FRAME_WIDTH))\n",
        "    height = int(cap.get(cv2.CAP_PROP_FRAME_HEIGHT))\n",
        "    fps    = cap.get(cv2.CAP_PROP_FPS)\n",
        "    fourcc = cv2.VideoWriter_fourcc(*'mp4v')\n",
        "    out = cv2.VideoWriter(output_video_path, fourcc, fps, (width, height))\n",
        "\n",
        "    # 建立 frame_idx -> predictions 快速索引字典\n",
        "    frames_data = {f['frame_idx']: f.get('predictions', []) for f in pose_json.get('frames', [])}\n",
        "\n",
        "    frame_idx = 0\n",
        "    while True:\n",
        "        ret, frame = cap.read()\n",
        "        if not ret:\n",
        "            break\n",
        "\n",
        "        predictions_raw = frames_data.get(frame_idx, [])\n",
        "\n",
        "        # 處理多層巢狀list: 如果 predictions_raw 是 [[dict,...]], 取第一層\n",
        "        if predictions_raw and isinstance(predictions_raw, list) and isinstance(predictions_raw[0], list):\n",
        "            predictions = predictions_raw[0]\n",
        "        else:\n",
        "            predictions = predictions_raw\n",
        "\n",
        "        # 畫骨架\n",
        "        for person in predictions:\n",
        "            keypoints = person.get('keypoints', [])\n",
        "            scores = person.get('keypoint_scores', [])\n",
        "            if not keypoints or not scores:\n",
        "                continue\n",
        "\n",
        "            # 畫點\n",
        "            for i, (x, y) in enumerate(keypoints):\n",
        "                if i < len(scores) and scores[i] > 0.3:\n",
        "                    cv2.circle(frame, (int(x), int(y)), 4, (0, 255, 0), -1)\n",
        "\n",
        "            # 畫骨架連線\n",
        "            for (start, end) in COCO_CONNECTIONS:\n",
        "                if start < len(keypoints) and end < len(keypoints):\n",
        "                    x1, y1 = keypoints[start]\n",
        "                    x2, y2 = keypoints[end]\n",
        "                    if scores[start] > 0.3 and scores[end] > 0.3:\n",
        "                        cv2.line(frame, (int(x1), int(y1)), (int(x2), int(y2)), (0, 255, 255), 2)\n",
        "\n",
        "        out.write(frame)\n",
        "        frame_idx += 1\n",
        "\n",
        "    cap.release()\n",
        "    out.release()\n",
        "    return output_video_path\n",
        "fast_render_pose_video('/content/drive/MyDrive/Baseball Movies/CH_videos_4s/pitch_0001.mp4', result, '/content/pitch_rendered.mp4')"
      ],
      "metadata": {
        "colab": {
          "base_uri": "https://localhost:8080/",
          "height": 36
        },
        "id": "WuYgrP8sLfF-",
        "outputId": "1b523cf8-7dcf-4191-d019-d302d8ed1f93"
      },
      "execution_count": 11,
      "outputs": [
        {
          "output_type": "execute_result",
          "data": {
            "text/plain": [
              "'/content/pitch_rendered.mp4'"
            ],
            "application/vnd.google.colaboratory.intrinsic+json": {
              "type": "string"
            }
          },
          "metadata": {},
          "execution_count": 11
        }
      ]
    },
    {
      "cell_type": "code",
      "source": [],
      "metadata": {
        "id": "jRZ_faaPKREQ"
      },
      "execution_count": null,
      "outputs": []
    }
  ]
}
{
  "nbformat": 4,
  "nbformat_minor": 0,
  "metadata": {
    "colab": {
      "provenance": [],
      "mount_file_id": "1HDZoGMyZ2i9jLoe-2ye60kOLnK6PAHDg",
      "authorship_tag": "ABX9TyNyoLlxPiUNv1WOuMaA11gT",
      "include_colab_link": true
    },
    "kernelspec": {
      "name": "python3",
      "display_name": "Python 3"
    },
    "language_info": {
      "name": "python"
    }
  },
  "cells": [
    {
      "cell_type": "markdown",
      "metadata": {
        "id": "view-in-github",
        "colab_type": "text"
      },
      "source": [
        "<a href=\"https://colab.research.google.com/github/skywalker0803r/baseball_ProofofConcept/blob/main/%E5%88%86%E9%A1%9E%E6%A8%A1%E5%9E%8B%E6%A8%A1%E7%B5%84.ipynb\" target=\"_parent\"><img src=\"https://colab.research.google.com/assets/colab-badge.svg\" alt=\"Open In Colab\"/></a>"
      ]
    },
    {
      "cell_type": "code",
      "source": [
        "import json\n",
        "\n",
        "with open('/content/pitching_features.json', 'r') as f:\n",
        "    features = json.load(f)\n",
        "\n",
        "print(features)\n"
      ],
      "metadata": {
        "colab": {
          "base_uri": "https://localhost:8080/"
        },
        "id": "OB2vX4L0a6BC",
        "outputId": "66a6ffb7-c71c-4a16-9304-10f31b6f704a"
      },
      "execution_count": 45,
      "outputs": [
        {
          "output_type": "stream",
          "name": "stdout",
          "text": [
            "{'avg_elbow_angle': 92.58793591502477, 'avg_shoulder_slope_deg': 120.12941456352631, 'avg_hip_slope_deg': 89.71035567571921, 'avg_torso_twist_deg': 75.26191728137613, 'max_hand_speed_px_per_s': 6391.980529190925, 'max_stride_length_px': 127.13555908203125, 'min_elbow_height_px': 155.1768035888672, 'avg_head_elbow_dist_px': 82.3579219439491, 'avg_shoulder_width_px': 20.467446976349134}\n"
          ]
        }
      ]
    },
    {
      "cell_type": "code",
      "source": [
        "def classify_pitch_quality(features: dict) -> str:\n",
        "    \"\"\"\n",
        "    根據運動力學特徵，分類投球為「好球」或「壞球」。\n",
        "    可以根據門檻值規則微調。\n",
        "\n",
        "    Args:\n",
        "        features (dict): 投球特徵字典（來自 biomechanics 特徵提取器）\n",
        "\n",
        "    Returns:\n",
        "        str: \"Good\" or \"Bad\"\n",
        "    \"\"\"\n",
        "\n",
        "    score = 0\n",
        "\n",
        "    # 1. 肘角\n",
        "    if 80 <= features['avg_elbow_angle'] <= 120:\n",
        "        score += 1\n",
        "\n",
        "    # 2. 肩膀傾斜角\n",
        "    if 80 <= features['avg_shoulder_slope_deg'] <= 100:\n",
        "        score += 1\n",
        "\n",
        "    # 3. 髖部傾斜角\n",
        "    if 70 <= features['avg_hip_slope_deg'] <= 100:\n",
        "        score += 1\n",
        "\n",
        "    # 4. 軀幹扭轉角\n",
        "    if 40 <= features['avg_torso_twist_deg'] <= 90:\n",
        "        score += 1\n",
        "\n",
        "    # 5. 最大手速\n",
        "    if 1000 <= features['max_hand_speed_px_per_s'] <= 5000:\n",
        "        score += 1\n",
        "\n",
        "    # 6. 步幅\n",
        "    if features['max_stride_length_px'] >= 100:\n",
        "        score += 1\n",
        "\n",
        "    # 7. 手肘高度\n",
        "    if features['min_elbow_height_px'] > 200:\n",
        "        score += 1\n",
        "\n",
        "    # 8. 頭與肘的距離\n",
        "    if 50 <= features['avg_head_elbow_dist_px'] <= 120:\n",
        "        score += 1\n",
        "\n",
        "    # 9. 肩膀展開\n",
        "    if features['avg_shoulder_width_px'] > 40:\n",
        "        score += 1\n",
        "\n",
        "    # 給一個門檻（至少 6/9 符合才算好）\n",
        "    return score#\"Good\" if score >= 6 else \"Bad\"\n"
      ],
      "metadata": {
        "id": "Oxyyq6L2a6Dh"
      },
      "execution_count": 53,
      "outputs": []
    },
    {
      "cell_type": "code",
      "source": [
        "result = classify_pitch_quality(features)\n",
        "print(\"投球評估結果：\", result)"
      ],
      "metadata": {
        "colab": {
          "base_uri": "https://localhost:8080/"
        },
        "id": "Ja-U4r37dam-",
        "outputId": "208e8bce-51d8-426f-b9bc-8057f026668c"
      },
      "execution_count": 54,
      "outputs": [
        {
          "output_type": "stream",
          "name": "stdout",
          "text": [
            "投球評估結果： 5\n"
          ]
        }
      ]
    },
    {
      "cell_type": "code",
      "source": [],
      "metadata": {
        "id": "CX0kFULNeNwV"
      },
      "execution_count": null,
      "outputs": []
    }
  ]
}